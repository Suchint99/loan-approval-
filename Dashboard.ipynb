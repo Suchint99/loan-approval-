{
 "cells": [
  {
   "cell_type": "code",
   "execution_count": 27,
   "metadata": {},
   "outputs": [
    {
     "name": "stdout",
     "output_type": "stream",
     "text": [
      "Hello\n",
      "Hello\n",
      "Hello\n"
     ]
    }
   ],
   "source": [
    "from tkinter import *\n",
    "import mysql.connector\n",
    "import House_Price_Prediction\n",
    "import Home_Loan_Prediction\n",
    "def dashboard():\n",
    "    window2 = Tk()\n",
    "    window2.title(\"Dashboard\")\n",
    "    window2.geometry('700x500')\n",
    "    def hpp():\n",
    "        House_Price_Prediction.hpp()\n",
    "    def hlp():\n",
    "        Home_Loan_Prediction.hll()\n",
    "        \n",
    "    def closeapp():\n",
    "        window2.destroy()\n",
    "        \n",
    "    w1 = Label(window2, text=\"Welcome To House and Loan Prediction System\",font=(\"Arial Bold\", 20))\n",
    "    hpp = Button(window2, text=\"House Price Prediction\",font=(\"Arial Bold\", 10),foreground=\"red\",command=hpp)\n",
    "    hlp = Button(window2, text=\"Home Loan Prediction\",font=(\"Arial Bold\", 10),foreground=\"red\",command=hlp)\n",
    "    closeapp = Button(window2, text=\"Close Application\",font=(\"Arial Bold\", 10),foreground=\"red\",command=closeapp)\n",
    "    w1.pack(pady=10)\n",
    "    hpp.pack(pady=10)\n",
    "    hlp.pack(pady=10)\n",
    "    closeapp.pack(pady=10)\n",
    "    window2.mainloop()"
   ]
  },
  {
   "cell_type": "code",
   "execution_count": null,
   "metadata": {},
   "outputs": [],
   "source": []
  },
  {
   "cell_type": "code",
   "execution_count": null,
   "metadata": {},
   "outputs": [],
   "source": []
  }
 ],
 "metadata": {
  "kernelspec": {
   "display_name": "Python 3 (ipykernel)",
   "language": "python",
   "name": "python3"
  },
  "language_info": {
   "codemirror_mode": {
    "name": "ipython",
    "version": 3
   },
   "file_extension": ".py",
   "mimetype": "text/x-python",
   "name": "python",
   "nbconvert_exporter": "python",
   "pygments_lexer": "ipython3",
   "version": "3.11.4"
  }
 },
 "nbformat": 4,
 "nbformat_minor": 2
}
