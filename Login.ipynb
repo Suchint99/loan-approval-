{
 "cells": [
  {
   "cell_type": "code",
   "execution_count": null,
   "metadata": {},
   "outputs": [
    {
     "name": "stderr",
     "output_type": "stream",
     "text": [
      "C:\\Users\\prash\\anaconda3\\Lib\\site-packages\\sklearn\\base.py:464: UserWarning: X does not have valid feature names, but LinearRegression was fitted with feature names\n",
      "  warnings.warn(\n"
     ]
    }
   ],
   "source": [
    "from tkinter import *\n",
    "from tkinter import messagebox\n",
    "import mysql.connector\n",
    "import import_ipynb\n",
    "import NewUserRegistration\n",
    "import Forget_Password\n",
    "import Dashboard\n",
    "\n",
    "myconn = mysql.connector.connect(host = \"localhost\", user = \"root\",passwd = \"\",database=\"home_loan_and_house_price_prediction_db\")  \n",
    "cur = myconn.cursor()\n",
    "\n",
    "def submit():\n",
    "    un=txt1.get()\n",
    "    pwd=txt2.get()\n",
    "    qry=\"select * from user_registration where UserName='\"+un+\"' And Password = '\"+pwd+\"'\"\n",
    "    cur.execute(qry)\n",
    "    row = cur.fetchone()\n",
    "    if row:\n",
    "        window.destroy()\n",
    "        Dashboard.dashboard()\n",
    "        \n",
    "    else:\n",
    "        messagebox.showinfo('Login Unsuccess', 'Invalid user id or Password Try Again')\n",
    "    \n",
    "def cancel():\n",
    "    txt1.delete(0, END)\n",
    "    txt2.delete(0,END)\n",
    "    txt1.focus()\n",
    "\n",
    "\n",
    "window = Tk()\n",
    "window.title(\"Loan_Approval and Home Price Prediction Login Page\")\n",
    "window.geometry('450x150')\n",
    "lb1 = Label(window, text=\"Enter the User name\",font=(\"Arial Bold\", 10))\n",
    "lb2 = Label(window, text=\"Enter the Password\",font=(\"Arial Bold\", 10))\n",
    "txt1 = Entry(window,width=30,font=(\"Arial Bold\", 10))\n",
    "txt2 = Entry(window,width=30,show='*',font=(\"Arial Bold\", 10))\n",
    "submit = Button(window, text=\"Submit\",font=(\"Arial Bold\", 10),command=submit)\n",
    "cancel = Button(window, text=\"Cancel\",font=(\"Arial Bold\", 10),command=cancel)\n",
    "\n",
    "\n",
    "    \n",
    "nur = Button(window, text=\"New User Registration\",font=(\"Arial Bold\", 10),command=NewUserRegistration.nur)\n",
    "fp = Button(window, text=\"Forget Password\",font=(\"Arial Bold\", 10),command=Forget_Password.fp)\n",
    "lb1.grid(column=1, row=0)\n",
    "txt1.grid(column=2, row=0)\n",
    "\n",
    "lb2.grid(column=1, row=1)\n",
    "txt2.grid(column=2, row=1)\n",
    "submit.grid(column=1, row=2)\n",
    "cancel.grid(column=2, row=2)\n",
    "nur.grid(column=1,row=3)\n",
    "fp.grid(column=2,row=3)\n",
    "window.mainloop()"
   ]
  },
  {
   "cell_type": "code",
   "execution_count": null,
   "metadata": {},
   "outputs": [],
   "source": [
    "\n"
   ]
  },
  {
   "cell_type": "code",
   "execution_count": null,
   "metadata": {},
   "outputs": [],
   "source": []
  }
 ],
 "metadata": {
  "kernelspec": {
   "display_name": "Python 3 (ipykernel)",
   "language": "python",
   "name": "python3"
  },
  "language_info": {
   "codemirror_mode": {
    "name": "ipython",
    "version": 3
   },
   "file_extension": ".py",
   "mimetype": "text/x-python",
   "name": "python",
   "nbconvert_exporter": "python",
   "pygments_lexer": "ipython3",
   "version": "3.11.4"
  }
 },
 "nbformat": 4,
 "nbformat_minor": 2
}
