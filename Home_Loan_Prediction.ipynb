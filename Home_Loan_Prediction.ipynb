{
 "cells": [
  {
   "cell_type": "code",
   "execution_count": 7,
   "metadata": {},
   "outputs": [
    {
     "name": "stderr",
     "output_type": "stream",
     "text": [
      "C:\\Users\\prash\\Anaconda3\\lib\\site-packages\\sklearn\\linear_model\\logistic.py:433: FutureWarning: Default solver will be changed to 'lbfgs' in 0.22. Specify a solver to silence this warning.\n",
      "  FutureWarning)\n"
     ]
    }
   ],
   "source": [
    "import pandas as pd\n",
    "from tkinter import *\n",
    "from sklearn.model_selection import train_test_split\n",
    "from sklearn.linear_model import LinearRegression\n",
    "from tkinter import messagebox\n",
    "\n",
    "def hll():\n",
    "    window4 = Tk()\n",
    "    window4.title(\"Home Loan Prediction Form\")\n",
    "    window4.geometry('500x300')\n",
    "    ha = Label(window4, text=\"Enter Applicant Income\",font=(\"Arial Bold\", 10))\n",
    "    tf = Label(window4, text=\"Enter Coapplicant Income\",font=(\"Arial Bold\", 10))\n",
    "    \n",
    "    aoh = Label(window4, text=\"Enter Loan Amount\",font=(\"Arial Bold\", 10))\n",
    "    wea = Label(window4, text=\"Enter Dependents\",font=(\"Arial Bold\", 10))\n",
    "    paa = Label(window4, text=\"Enter Married or Not\",font=(\"Arial Bold\", 10))\n",
    "    \n",
    " \n",
    "    \n",
    "    pp = Label(window4, text=\"Your Home Loan is=\",font=(\"Arial Bold\", 10))\n",
    "    \n",
    "    txt1 = Entry(window4,width=30,font=(\"Arial Bold\", 10))\n",
    "    txt2 = Entry(window4,width=30,font=(\"Arial Bold\", 10))\n",
    "    txt3 = Entry(window4,width=30,font=(\"Arial Bold\", 10))\n",
    "    txt4 = Entry(window4,width=30,font=(\"Arial Bold\", 10))\n",
    "    txt5 = Entry(window4,width=30,font=(\"Arial Bold\", 10))\n",
    "   \n",
    "    ha.grid(column=1, row=0,pady= 10)\n",
    "    txt1.grid(column=2, row=0,pady= 10)\n",
    "\n",
    "    tf.grid(column=1, row=1,pady= 10)\n",
    "    txt2.grid(column=2, row=1,pady= 10)\n",
    "    \n",
    "    aoh.grid(column=1, row=2,pady= 10)\n",
    "    txt3.grid(column=2, row=2,pady= 10)\n",
    "    \n",
    "    wea.grid(column=1, row=3,pady= 10)\n",
    "    txt4.grid(column=2, row=3,pady= 10)\n",
    "    \n",
    "    paa.grid(column=1, row=4,pady= 10)\n",
    "    txt5.grid(column=2, row=4,pady= 10)\n",
    "    \n",
    "   \n",
    "    \n",
    "    def predict():\n",
    "        ha=int(txt1.get())\n",
    "        tf=int(txt2.get())\n",
    "        aoh=int(txt3.get())\n",
    "        wea=int(txt4.get())\n",
    "        paa=int(txt5.get())\n",
    "        newx=[[ha,tf,aoh,wea,paa]]\n",
    "        df = pd.read_csv(\"Loan.csv\",sep = \",\")\n",
    "        # Now define x aand y\n",
    "        y = df[\"Loan_Status\"]\n",
    "        X = df.drop([\"Loan_Status\"],axis=1)\n",
    "        x_train,x_test,y_train,y_test = train_test_split(X,y,test_size = 0.20,random_state=42)\n",
    "        from sklearn.linear_model import LogisticRegression\n",
    "        model = LogisticRegression()\n",
    "        model.fit(X,y)\n",
    "        y_predict = model.predict(newx)\n",
    "        if y_predict==[0]:\n",
    "            pp.config(text = 'Sorry Your Loan is Not Approved')\n",
    "        else:\n",
    "            pp.config(text = 'Congratulations Your Loan is Approved')\n",
    "            \n",
    "        #messagebox.showinfo('House Price Prediction', 'House Predicted Price is'+ y_predict)\n",
    "        \n",
    "        \n",
    "    predict = Button(window4, text=\"Predict Loan Status\",font=(\"Arial Bold\", 10),command=predict)\n",
    "    predict.grid(column=2, row=8)\n",
    "    pp.grid(column=2,row=9)\n",
    "    window4.mainloop()\n"
   ]
  },
  {
   "cell_type": "code",
   "execution_count": null,
   "metadata": {},
   "outputs": [],
   "source": []
  },
  {
   "cell_type": "code",
   "execution_count": null,
   "metadata": {},
   "outputs": [],
   "source": []
  }
 ],
 "metadata": {
  "kernelspec": {
   "display_name": "Python 3 (ipykernel)",
   "language": "python",
   "name": "python3"
  },
  "language_info": {
   "codemirror_mode": {
    "name": "ipython",
    "version": 3
   },
   "file_extension": ".py",
   "mimetype": "text/x-python",
   "name": "python",
   "nbconvert_exporter": "python",
   "pygments_lexer": "ipython3",
   "version": "3.11.4"
  }
 },
 "nbformat": 4,
 "nbformat_minor": 2
}
