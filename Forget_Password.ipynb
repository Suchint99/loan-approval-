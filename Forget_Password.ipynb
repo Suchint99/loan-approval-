{
 "cells": [
  {
   "cell_type": "code",
   "execution_count": 1,
   "metadata": {},
   "outputs": [],
   "source": [
    "from tkinter import *\n",
    "import mysql.connector\n",
    "myconn = mysql.connector.connect(host = \"localhost\", user = \"root\",passwd = \"\",database=\"home_loan_and_house_price_prediction_db\")  \n",
    "cur = myconn.cursor()\n",
    "\n",
    "def fp():\n",
    "    window1 = Tk()\n",
    "    window1.title(\"Forget Password Form\")\n",
    "    window1.geometry('500x300')\n",
    "    \n",
    "    sq = Label(window1, text=\"Your SQ\",font=(\"Arial Bold\", 10))\n",
    "    un = Label(window1, text=\"Enter the User name\",font=(\"Arial Bold\", 10))\n",
    "    pass1 = Label(window1, text=\"Your Forget Password is=\",font=(\"Arial Bold\", 10))\n",
    "    txt1 = Entry(window1,width=30,font=(\"Arial Bold\", 10))\n",
    "    txt2 = Entry(window1,width=30,font=(\"Arial Bold\", 10))\n",
    "    \n",
    "    un.grid(column=1, row=0)\n",
    "    txt1.grid(column=2, row=0)\n",
    "    sq.grid(column=1,row=1)\n",
    "    txt2.grid(column=2, row=1)\n",
    "    \n",
    "    \n",
    "    def getfp():\n",
    "        userans=txt2.get()\n",
    "        if rightans == userans:\n",
    "            pass1.config(text = password)\n",
    "            print(password)\n",
    "        else:\n",
    "            messagebox.showinfo('Wrong Answer', 'Your Answer is Wrong')\n",
    "                \n",
    "    getfp = Button(window1, text=\"Get Forget Password\",font=(\"Arial Bold\", 10),command=getfp)\n",
    "    \n",
    "\n",
    "   \n",
    "    def fsq():\n",
    "        global password,rightans\n",
    "        un=txt1.get()\n",
    "        qry=\"select * from user_registration where UserName='\"+un+\"'\"\n",
    "        cur.execute(qry)\n",
    "        row = cur.fetchone()\n",
    "        password = row[1]\n",
    "        sq.config(text = row[6])\n",
    "        rightans = row[7]\n",
    "        print(rightans,password)\n",
    "        \n",
    "    fsq = Button(window1, text=\"Get Your Security Question\",font=(\"Arial Bold\", 10),command=fsq)\n",
    "    \n",
    "    fsq.grid(column=3, row=0)\n",
    "    getfp.grid(column=2,row=2)\n",
    "    pass1.grid(column=2,row=3)\n",
    "    \n",
    "     \n",
    "          \n",
    "            \n",
    "    \n",
    "   \n",
    "    window1.mainloop()"
   ]
  },
  {
   "cell_type": "code",
   "execution_count": null,
   "metadata": {},
   "outputs": [],
   "source": []
  }
 ],
 "metadata": {
  "kernelspec": {
   "display_name": "Python 3 (ipykernel)",
   "language": "python",
   "name": "python3"
  },
  "language_info": {
   "codemirror_mode": {
    "name": "ipython",
    "version": 3
   },
   "file_extension": ".py",
   "mimetype": "text/x-python",
   "name": "python",
   "nbconvert_exporter": "python",
   "pygments_lexer": "ipython3",
   "version": "3.11.4"
  }
 },
 "nbformat": 4,
 "nbformat_minor": 2
}
